{
 "cells": [
  {
   "cell_type": "markdown",
   "metadata": {},
   "source": [
    "# Model Selection\n",
    "## Alicia Brown\n",
    "### 143960"
   ]
  },
  {
   "cell_type": "markdown",
   "metadata": {},
   "source": [
    "### Paquetes necesarios"
   ]
  },
  {
   "cell_type": "code",
   "execution_count": 1,
   "metadata": {
    "collapsed": true
   },
   "outputs": [],
   "source": [
    "import pandas as pd\n",
    "import numpy as np\n",
    "import csv\n",
    "import random as rnd\n",
    "from sklearn.model_selection import train_test_split\n",
    "import matplotlib.pyplot as plt\n",
    "from sklearn import preprocessing\n",
    "%matplotlib inline"
   ]
  },
  {
   "cell_type": "markdown",
   "metadata": {},
   "source": [
    "### Lectura"
   ]
  },
  {
   "cell_type": "code",
   "execution_count": 2,
   "metadata": {
    "collapsed": true
   },
   "outputs": [],
   "source": [
    "df = pd.read_csv(\"https://raw.githubusercontent.com/ClaseML-2017/MaterialyTareas/master/datos/regLinPoli2.csv\") ##insert your own path"
   ]
  },
  {
   "cell_type": "markdown",
   "metadata": {},
   "source": [
    "### División en prueba de entrenamiento y prueba"
   ]
  },
  {
   "cell_type": "code",
   "execution_count": 3,
   "metadata": {},
   "outputs": [
    {
     "name": "stderr",
     "output_type": "stream",
     "text": [
      "/Library/Frameworks/Python.framework/Versions/2.7/lib/python2.7/site-packages/sklearn/model_selection/_split.py:2010: FutureWarning: From version 0.21, test_size will always complement train_size unless both are specified.\n",
      "  FutureWarning)\n"
     ]
    }
   ],
   "source": [
    "X_train, X_test, Y_train, Y_test = train_test_split(df[df.columns[0:-1]],df[[df.columns[-1]]], train_size=0.75)\n",
    "#print X_train.columns.values"
   ]
  },
  {
   "cell_type": "markdown",
   "metadata": {},
   "source": [
    "### Conversión a arreglos"
   ]
  },
  {
   "cell_type": "code",
   "execution_count": 4,
   "metadata": {
    "collapsed": true
   },
   "outputs": [],
   "source": [
    "X_train=np.asarray(X_train)\n",
    "X_test=np.asarray(X_test)\n",
    "Y_train=np.asarray(Y_train)\n",
    "Y_test=np.asarray(Y_test)"
   ]
  },
  {
   "cell_type": "markdown",
   "metadata": {},
   "source": [
    "### Estandarización de los datos"
   ]
  },
  {
   "cell_type": "code",
   "execution_count": 5,
   "metadata": {
    "collapsed": true
   },
   "outputs": [],
   "source": [
    "def normalize(X_train,X_test,Y_train,Y_test,do=True):\n",
    "\n",
    "    scale_X=preprocessing.StandardScaler()\n",
    "    scale_y=preprocessing.StandardScaler()\n",
    "    \n",
    "    train_X=np.copy(X_train)\n",
    "    train_y=np.copy(Y_train)\n",
    "    test_X=np.copy(X_test)\n",
    "    test_y=np.copy(Y_test)\n",
    "    if do:\n",
    "        scale_X.fit(train_X)\n",
    "        scale_y.fit(train_y)\n",
    "        train_X=scale_X.transform(train_X)\n",
    "        train_y=scale_y.transform(train_y)\n",
    "        test_X=scale_X.transform(test_X)\n",
    "        test_y=scale_y.transform(test_y)\n",
    "    return train_X,test_X, train_y, test_y"
   ]
  },
  {
   "cell_type": "markdown",
   "metadata": {},
   "source": [
    "### Regresión iterativa con regularización"
   ]
  },
  {
   "cell_type": "code",
   "execution_count": 6,
   "metadata": {
    "collapsed": true
   },
   "outputs": [],
   "source": [
    "def salida(w,X):\n",
    "    return X.dot(w[1:]) +w[0]"
   ]
  },
  {
   "cell_type": "code",
   "execution_count": 7,
   "metadata": {
    "collapsed": true
   },
   "outputs": [],
   "source": [
    "def entrena(X,y,w,la=0.0,eta=0.01):\n",
    "    \n",
    "    for i in range(len(X)):\n",
    "        error=y[i]-salida(w,X[i])\n",
    "        w[0]=w[0]+eta*(error)\n",
    "        w[1:]=w[1:]+eta*(error*X[i])-la*w[1:]\n",
    "    return w"
   ]
  },
  {
   "cell_type": "markdown",
   "metadata": {},
   "source": [
    "### Error"
   ]
  },
  {
   "cell_type": "code",
   "execution_count": 52,
   "metadata": {
    "collapsed": true
   },
   "outputs": [],
   "source": [
    "def calcError(X, Y, w):\n",
    "    return np.mean((X.dot(w[1:])+ w[0] - Y)**2)"
   ]
  },
  {
   "cell_type": "markdown",
   "metadata": {},
   "source": [
    "### Prueba"
   ]
  },
  {
   "cell_type": "code",
   "execution_count": 53,
   "metadata": {
    "collapsed": true
   },
   "outputs": [],
   "source": [
    "train_X,test_X,train_y,test_y=normalize(X_train,X_test,Y_train,Y_test)"
   ]
  },
  {
   "cell_type": "code",
   "execution_count": 25,
   "metadata": {},
   "outputs": [
    {
     "data": {
      "text/plain": [
       "array([ 0.28505266,  0.68980876, -0.09980773,  0.65197627,  0.33096514,\n",
       "        0.09556427,  0.14563575,  0.39184274,  0.53129543,  0.31038871,\n",
       "        0.04719415,  0.01615541, -0.06892898,  0.01613069, -0.02280822,\n",
       "        0.00178009, -0.06336379,  0.02580427,  0.01649765,  0.04891604,\n",
       "       -0.03655368,  0.02334026, -0.04857188, -0.08823119,  0.04347581,\n",
       "        0.01555752, -0.00612428,  0.00564362,  0.02820058,  0.03061698,\n",
       "       -0.01020032,  0.0007134 ,  0.00374846, -0.01856776, -0.03886687,\n",
       "        0.10875983, -0.14648453, -0.03032134, -0.00630573])"
      ]
     },
     "execution_count": 25,
     "metadata": {},
     "output_type": "execute_result"
    }
   ],
   "source": [
    "w=np.asarray([rnd.random() for i in range(1+len(train_X[0]))])\n",
    "for i in range(100):\n",
    "    w=entrena(train_X,train_y,w,la=0.00)"
   ]
  },
  {
   "cell_type": "code",
   "execution_count": 24,
   "metadata": {},
   "outputs": [
    {
     "name": "stdout",
     "output_type": "stream",
     "text": [
      "0.489110717296\n",
      "0.479383529203\n"
     ]
    }
   ],
   "source": [
    "print calcError(train_X,train_y.flatten(),w[1:],w[0])\n",
    "print calcError(test_X,test_y.flatten(),w[1:],w[0])"
   ]
  },
  {
   "cell_type": "markdown",
   "metadata": {},
   "source": [
    "### Cross validation"
   ]
  },
  {
   "cell_type": "code",
   "execution_count": 54,
   "metadata": {
    "collapsed": true
   },
   "outputs": [],
   "source": [
    "def kSubsets(X_train,k):\n",
    "    indice = np.random.choice(len(X_train), len(X_train), False)\n",
    "    return [indice[i] % k for i in range(len(X_train))]"
   ]
  },
  {
   "cell_type": "code",
   "execution_count": 57,
   "metadata": {},
   "outputs": [],
   "source": [
    "def crossVal(X_train,Y_train,w,k,lam):\n",
    "    TrainSets = np.array(kSubsets(X_train, k))\n",
    "    errores = []\n",
    "    for i in range(k):\n",
    "        Xe, Ye, Xp, Yp = X_train[TrainSets != i], Y_train[TrainSets != i], X_train[TrainSets == i], Y_train[TrainSets == i]\n",
    "        w = entrena(Xe, Ye, w, lam)\n",
    "        errores = np.append(errores, calcError(Xp, Yp.flatten(),w))\n",
    "    errorProm = np.mean(errores)\n",
    "    return w, errorProm"
   ]
  },
  {
   "cell_type": "markdown",
   "metadata": {
    "collapsed": true
   },
   "source": [
    "### Cambio de lambda"
   ]
  },
  {
   "cell_type": "code",
   "execution_count": 61,
   "metadata": {},
   "outputs": [
    {
     "name": "stdout",
     "output_type": "stream",
     "text": [
      "0.0 0.544901268123\n"
     ]
    }
   ],
   "source": [
    "lam = np.linspace(0.0, 1.0, 100)\n",
    "w=np.asarray([rnd.random() for i in range(1+len(train_X[0]))])\n",
    "k = 10\n",
    "errorProm = []\n",
    "for i in range(len(lam)):\n",
    "    w, errores = crossVal(train_X, train_y, w, k, lam[i])\n",
    "    errorProm = np.append(errorProm, errores)\n",
    "MinError = np.amin(errorProm)\n",
    "OptLam = np.argmin(errorProm)\n",
    "print lam[OptLam], MinError"
   ]
  },
  {
   "cell_type": "code",
   "execution_count": 62,
   "metadata": {},
   "outputs": [
    {
     "data": {
      "image/png": "[encoded data removed]",
      "text/plain": [
       "<matplotlib.figure.Figure at 0x1041b94d0>"
      ]
     },
     "metadata": {},
     "output_type": "display_data"
    }
   ],
   "source": [
    "plt.plot(lam, errorProm)\n",
    "plt.scatter(lam[OptLam], MinError, c='r')\n",
    "plt.show()"
   ]
  },
  {
   "cell_type": "code",
   "execution_count": null,
   "metadata": {
    "collapsed": true
   },
   "outputs": [],
   "source": []
  }
 ],
 "metadata": {
  "kernelspec": {
   "display_name": "Python 2",
   "language": "python",
   "name": "python2"
  },
  "language_info": {
   "codemirror_mode": {
    "name": "ipython",
    "version": 2
   },
   "file_extension": ".py",
   "mimetype": "text/x-python",
   "name": "python",
   "nbconvert_exporter": "python",
   "pygments_lexer": "ipython2",
   "version": "2.7.13"
  }
 },
 "nbformat": 4,
 "nbformat_minor": 2
}
